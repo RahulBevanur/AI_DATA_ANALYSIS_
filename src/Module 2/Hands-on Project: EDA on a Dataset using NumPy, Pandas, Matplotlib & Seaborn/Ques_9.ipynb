{
 "cells": [
  {
   "cell_type": "code",
   "execution_count": null,
   "metadata": {},
   "outputs": [],
   "source": [
    "# Title: Feature Engineering for Classification\n",
    "# Description: Create a new feature that could help distinguish between species based on\n",
    "# logical assumptions and verify its utility.\n",
    "import pandas as pd\n",
    "import seaborn as sns\n",
    "from sklearn.ensemble import RandomForestClassifier\n",
    "from sklearn.model_selection import cross_val_score\n",
    "\n",
    "# Load dataset\n",
    "df = sns.load_dataset('iris')\n",
    "\n",
    "# Example of a logical new feature: petal length to width ratio\n",
    "df['petal_ratio'] = df['petal_length'] / df['petal_width']\n",
    "\n",
    "# Prepare features and target\n",
    "X = df.drop('species', axis=1)\n",
    "y = df['species']\n",
    "\n",
    "# Check utility using RandomForest and cross-validation\n",
    "model = RandomForestClassifier(random_state=42)\n",
    "score_with_new_feature = cross_val_score(model, X, y, cv=5).mean()\n",
    "\n",
    "# Drop new feature and compare\n",
    "X_baseline = X.drop('petal_ratio', axis=1)\n",
    "score_without_new_feature = cross_val_score(model, X_baseline, y, cv=5).mean()\n",
    "\n",
    "print(f\"Accuracy with new feature: {score_with_new_feature:.4f}\")\n",
    "print(f\"Accuracy without new feature: {score_without_new_feature:.4f}\")"
   ]
  }
 ],
 "metadata": {
  "language_info": {
   "name": "python"
  }
 },
 "nbformat": 4,
 "nbformat_minor": 2
}
