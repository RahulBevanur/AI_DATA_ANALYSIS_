{
 "cells": [
  {
   "cell_type": "code",
   "execution_count": null,
   "metadata": {},
   "outputs": [],
   "source": [
    "# Title: Data Manipulation with Pandas\n",
    "# Description: Add a new column that calculates the ratio of petal length to petal width.\n",
    "import pandas as pd\n",
    "import seaborn as sns\n",
    "\n",
    "iris = sns.load_dataset('iris')\n",
    "\n",
    "print(\"Before adding ratio column:\")\n",
    "print(iris.head())\n",
    "\n",
    "\n",
    "iris['petal_ratio'] = iris['petal_length'] / iris['petal_width']\n",
    "\n",
    "\n",
    "print(\"\\nAfter adding ratio column:\")\n",
    "print(iris.head())"
   ]
  }
 ],
 "metadata": {
  "language_info": {
   "name": "python"
  }
 },
 "nbformat": 4,
 "nbformat_minor": 2
}
