{
 "cells": [
  {
   "cell_type": "code",
   "execution_count": null,
   "metadata": {},
   "outputs": [],
   "source": [
    "# Title: Group and Aggregate Data\n",
    "# Description: Group the dataset by species (target) and compute the average of each feature.\n",
    "\n",
    "import seaborn as sns\n",
    "iris = sns.load_dataset('iris')\n",
    "grouped_data = iris.groupby('species').mean()\n",
    "print(grouped_data)"
   ]
  }
 ],
 "metadata": {
  "language_info": {
   "name": "python"
  }
 },
 "nbformat": 4,
 "nbformat_minor": 2
}
