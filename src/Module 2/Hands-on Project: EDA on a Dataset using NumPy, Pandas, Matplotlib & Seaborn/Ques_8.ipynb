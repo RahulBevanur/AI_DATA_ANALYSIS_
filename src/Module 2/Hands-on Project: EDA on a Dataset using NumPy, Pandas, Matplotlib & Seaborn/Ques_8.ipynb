{
 "cells": [
  {
   "cell_type": "code",
   "execution_count": null,
   "metadata": {},
   "outputs": [],
   "source": [
    "# Title: Advanced Data Visualization\n",
    "# Description: Create a pair plot for the dataset to display pairwise relationships.\n",
    "import seaborn as sns\n",
    "import matplotlib.pyplot as plt\n",
    "import pandas as pd\n",
    "\n",
    "# Load an example dataset (you can replace this with your own DataFrame)\n",
    "df = sns.load_dataset('iris')  # Replace with your dataset, e.g., pd.read_csv('your_data.csv')\n",
    "\n",
    "# Create a pair plot\n",
    "sns.pairplot(df, hue='species')  # 'hue' is optional, for colored grouping\n",
    "\n",
    "# Show the plot\n",
    "plt.show()"
   ]
  }
 ],
 "metadata": {
  "language_info": {
   "name": "python"
  }
 },
 "nbformat": 4,
 "nbformat_minor": 2
}
