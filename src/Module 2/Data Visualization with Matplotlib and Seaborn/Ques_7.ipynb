{
 "cells": [
  {
   "cell_type": "code",
   "execution_count": null,
   "metadata": {},
   "outputs": [],
   "source": [
    "# Advanced Scatter Plot with Seaborn\n",
    "# Description: Using Seaborn, enhance the scatter plot for height vs. weight by adding size for points based\n",
    "# on data: Size [10, 15, 13, 18, 12].\n",
    "import seaborn as sns\n",
    "import matplotlib.pyplot as plt\n",
    "import pandas as pd\n",
    "\n",
    "# Sample data for height vs. weight\n",
    "data = {\n",
    "    'Height': [160, 170, 180, 190, 200],\n",
    "    'Weight': [55, 70, 80, 90, 100],\n",
    "    'Size': [10, 15, 13, 18, 12]  # Size values for points\n",
    "}\n",
    "\n",
    "# Create a DataFrame\n",
    "df = pd.DataFrame(data)\n",
    "\n",
    "# Create the scatter plot with Seaborn\n",
    "plt.figure(figsize=(8, 6))\n",
    "sns.scatterplot(x='Height', y='Weight', size='Size', sizes=(20, 200), data=df, legend=False)\n",
    "\n",
    "# Title and labels\n",
    "plt.title(\"Height vs Weight with Variable Point Size\")\n",
    "plt.xlabel(\"Height (cm)\")\n",
    "plt.ylabel(\"Weight (kg)\")\n",
    "\n",
    "# Show plot\n",
    "plt.show()\n"
   ]
  }
 ],
 "metadata": {
  "kernelspec": {
   "display_name": "Python 3",
   "language": "python",
   "name": "python3"
  },
  "language_info": {
   "codemirror_mode": {
    "name": "ipython",
    "version": 3
   },
   "file_extension": ".py",
   "mimetype": "text/x-python",
   "name": "python",
   "nbconvert_exporter": "python",
   "pygments_lexer": "ipython3",
   "version": "3.10.12"
  }
 },
 "nbformat": 4,
 "nbformat_minor": 2
}
