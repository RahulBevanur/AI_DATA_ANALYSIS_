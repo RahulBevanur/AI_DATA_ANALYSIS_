{
 "cells": [
  {
   "cell_type": "code",
   "execution_count": null,
   "metadata": {},
   "outputs": [],
   "source": [
    "# Matplotlib Subplots for Multiple Data Sets\n",
    "# Description: Create subplots using Matplotlib to display the bar plot for product sales and the scatter plot for\n",
    "# height vs. weight side by side.\n",
    "import matplotlib.pyplot as plt\n",
    "products = ['Product A', 'Product B', 'Product C', 'Product D']\n",
    "sales = [200, 150, 300, 250]\n",
    "heights = [160, 170, 180, 190, 200]\n",
    "weights = [55, 70, 80, 90, 100]\n",
    "fig, axs = plt.subplots(1, 2, figsize=(14, 6))\n",
    "axs[0].bar(products, sales, color='green')\n",
    "axs[0].set_title('Product Sales')\n",
    "axs[0].set_xlabel('Products')\n",
    "axs[0].set_ylabel('Sales')\n",
    "axs[1].scatter(heights, weights, color='blue')\n",
    "axs[1].set_title('Height vs Weight')\n",
    "axs[1].set_xlabel('Height (cm)')\n",
    "axs[1].set_ylabel('Weight (kg)')\n",
    "plt.tight_layout()\n",
    "plt.show()\n"
   ]
  }
 ],
 "metadata": {
  "kernelspec": {
   "display_name": "Python 3",
   "language": "python",
   "name": "python3"
  },
  "language_info": {
   "codemirror_mode": {
    "name": "ipython",
    "version": 3
   },
   "file_extension": ".py",
   "mimetype": "text/x-python",
   "name": "python",
   "nbconvert_exporter": "python",
   "pygments_lexer": "ipython3",
   "version": "3.10.12"
  }
 },
 "nbformat": 4,
 "nbformat_minor": 2
}
