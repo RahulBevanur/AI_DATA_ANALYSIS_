{
 "cells": [
  {
   "cell_type": "code",
   "execution_count": null,
   "metadata": {},
   "outputs": [],
   "source": [
    "# Seaborn Plot - Heatmap\n",
    "# Objective: Create a heatmap to visualize a correlation matrix with Seaborn, using\n",
    "# advanced styling.\n",
    "import seaborn as sns\n",
    "import matplotlib.pyplot as plt\n",
    "tips = sns.load_dataset('tips')\n",
    "numeric_columns = tips.select_dtypes(include=['float64', 'int64'])\n",
    "corr_matrix = numeric_columns.corr()\n",
    "plt.figure(figsize=(10, 8))  \n",
    "sns.heatmap(corr_matrix, \n",
    "            annot=True,          \n",
    "            cmap='coolwarm',      \n",
    "            fmt='.2f',            \n",
    "            linewidths=0.5,       \n",
    "            linecolor='gray',    \n",
    "            square=True,         \n",
    "            cbar_kws={'shrink': 0.75}) \n",
    "plt.title('Correlation Matrix Heatmap', fontsize=16)\n",
    "plt.show()"
   ]
  }
 ],
 "metadata": {
  "language_info": {
   "name": "python"
  }
 },
 "nbformat": 4,
 "nbformat_minor": 2
}
