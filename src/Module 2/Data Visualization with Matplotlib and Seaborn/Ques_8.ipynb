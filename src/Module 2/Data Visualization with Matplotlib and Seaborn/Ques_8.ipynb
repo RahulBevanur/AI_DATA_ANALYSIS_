{
 "cells": [
  {
   "cell_type": "code",
   "execution_count": null,
   "metadata": {},
   "outputs": [],
   "source": [
    "# Seaborn Histogram with KDE\n",
    "# Description: Create a histogram using Seaborn that includes a Kernel Density Estimate (KDE) for marks\n",
    "# data: [23, 45, 56, 78, 89, 90, 67, 88, 76, 59].\n",
    "import seaborn as sns\n",
    "import matplotlib.pyplot as plt\n",
    "\n",
    "data = [23, 45, 56, 78, 89, 90, 67, 88, 76, 59]\n",
    "plt.figure(figsize=(8, 6))\n",
    "sns.histplot(data, kde=True, color='blue', bins=10)\n",
    "plt.title(\"Histogram with Kernel Density Estimate (KDE)\")\n",
    "plt.xlabel(\"Marks\")\n",
    "plt.ylabel(\"Frequency\")\n",
    "plt.show()\n"
   ]
  }
 ],
 "metadata": {
  "kernelspec": {
   "display_name": "Python 3",
   "language": "python",
   "name": "python3"
  },
  "language_info": {
   "codemirror_mode": {
    "name": "ipython",
    "version": 3
   },
   "file_extension": ".py",
   "mimetype": "text/x-python",
   "name": "python",
   "nbconvert_exporter": "python",
   "pygments_lexer": "ipython3",
   "version": "3.10.12"
  }
 },
 "nbformat": 4,
 "nbformat_minor": 2
}
