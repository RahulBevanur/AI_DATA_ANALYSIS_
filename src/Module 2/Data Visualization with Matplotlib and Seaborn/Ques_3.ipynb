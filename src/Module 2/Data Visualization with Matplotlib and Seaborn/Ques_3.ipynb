{
 "cells": [
  {
   "cell_type": "code",
   "execution_count": null,
   "metadata": {},
   "outputs": [],
   "source": [
    "# Constructing a Histogram with Matplotlib\n",
    "# Description: Create a histogram to observe the distribution of marks obtained by students in a class: Marks\n",
    "# [23, 45, 56, 78, 89, 90, 67, 88, 76, 59].\n",
    "import matplotlib.pyplot as plt\n",
    "\n",
    "marks = [23, 45, 56, 78, 89, 90, 67, 88, 76, 59]\n",
    "\n",
    "\n",
    "plt.figure(figsize=(8, 5))\n",
    "plt.hist(marks, bins=5, color='orange', edgecolor='black')\n",
    "\n",
    "\n",
    "plt.xlabel('Marks')\n",
    "plt.ylabel('Number of Students')\n",
    "plt.title('Distribution of Student Marks')\n",
    "plt.grid(axis='y', linestyle='--', alpha=0.7)\n",
    "\n",
    "\n",
    "plt.tight_layout()\n",
    "plt.show()"
   ]
  }
 ],
 "metadata": {
  "kernelspec": {
   "display_name": "Python 3",
   "language": "python",
   "name": "python3"
  },
  "language_info": {
   "codemirror_mode": {
    "name": "ipython",
    "version": 3
   },
   "file_extension": ".py",
   "mimetype": "text/x-python",
   "name": "python",
   "nbconvert_exporter": "python",
   "pygments_lexer": "ipython3",
   "version": "3.10.12"
  }
 },
 "nbformat": 4,
 "nbformat_minor": 2
}
