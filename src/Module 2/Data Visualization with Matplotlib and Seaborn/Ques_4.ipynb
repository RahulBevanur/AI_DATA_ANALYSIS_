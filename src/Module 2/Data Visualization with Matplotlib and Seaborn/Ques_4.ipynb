{
 "cells": [
  {
   "cell_type": "code",
   "execution_count": null,
   "metadata": {},
   "outputs": [],
   "source": [
    "# Basic Seaborn Bar Plot\n",
    "# Description: Using Seaborn, plot the same bar plot from Question 1 to compare the sales data.\n",
    "# Data\n",
    "products = ['A', 'B', 'C', 'D', 'E']\n",
    "sales = [23, 75, 57, 90, 65]  # in thousands\n",
    "\n",
    "\n",
    "data = pd.DataFrame({'Product': products, 'Sales': sales})\n",
    "\n",
    "\n",
    "plt.figure(figsize=(8, 5))\n",
    "sns.barplot(x='Product', y='Sales', data=data, palette='Blues_d')\n",
    "\n",
    "\n",
    "plt.xlabel('Products')\n",
    "plt.ylabel('Sales (in thousands)')\n",
    "plt.title('Product Sales Comparison')\n",
    "\n",
    "\n",
    "plt.tight_layout()\n",
    "plt.show()\n"
   ]
  }
 ],
 "metadata": {
  "language_info": {
   "name": "python"
  }
 },
 "nbformat": 4,
 "nbformat_minor": 2
}
