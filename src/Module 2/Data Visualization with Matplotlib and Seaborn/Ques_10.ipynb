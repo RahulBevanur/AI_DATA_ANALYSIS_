{
 "cells": [
  {
   "cell_type": "code",
   "execution_count": null,
   "metadata": {},
   "outputs": [],
   "source": [
    "# Advanced Seaborn Plot with DataFrame\n",
    "# Description: Create a Seaborn plot using a DataFrame that visualizes two features in a single plot. Use tips\n",
    "# dataset available in Seaborn's sample datasets.\n",
    "import seaborn as sns\n",
    "import matplotlib.pyplot as plt\n",
    "tips = sns.load_dataset('tips')\n",
    "plt.figure(figsize=(8, 6))\n",
    "sns.scatterplot(x='total_bill', y='tip', data=tips, hue='time', style='sex', palette='Set1')\n",
    "plt.title('Scatter Plot of Total Bill vs Tip')\n",
    "plt.xlabel('Total Bill')\n",
    "plt.ylabel('Tip')\n",
    "plt.show()\n"
   ]
  }
 ],
 "metadata": {
  "kernelspec": {
   "display_name": "Python 3",
   "language": "python",
   "name": "python3"
  },
  "language_info": {
   "codemirror_mode": {
    "name": "ipython",
    "version": 3
   },
   "file_extension": ".py",
   "mimetype": "text/x-python",
   "name": "python",
   "nbconvert_exporter": "python",
   "pygments_lexer": "ipython3",
   "version": "3.10.12"
  }
 },
 "nbformat": 4,
 "nbformat_minor": 2
}
