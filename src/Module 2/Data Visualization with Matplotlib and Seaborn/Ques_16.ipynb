{
 "cells": [
  {
   "cell_type": "code",
   "execution_count": null,
   "metadata": {},
   "outputs": [],
   "source": [
    "# Combining Plots with Matplotlib\n",
    "# Objective: Combine multiple plots into a single figure using Matplotlib's subplots.\n",
    "import matplotlib.pyplot as plt\n",
    "import seaborn as sns\n",
    "import numpy as np\n",
    "\n",
    "# Data for the plots\n",
    "products = ['A', 'B', 'C', 'D', 'E']\n",
    "sales = [23, 75, 57, 90, 65]  # in thousands\n",
    "heights = [160, 170, 165, 180, 175]  # in cm\n",
    "weights = [55, 65, 60, 80, 76]       # in kg\n",
    "marks = [23, 45, 56, 78, 89, 90, 67, 88, 76, 59]\n",
    "\n",
    "# Create subplots with 1 row and 3 columns\n",
    "fig, axs = plt.subplots(1, 3, figsize=(18, 6))\n",
    "\n",
    "# Bar Plot\n",
    "axs[0].bar(products, sales, color='teal', edgecolor='black')\n",
    "axs[0].set_title('Product Sales')\n",
    "axs[0].set_xlabel('Products')\n",
    "axs[0].set_ylabel('Sales (in thousands)')\n",
    "axs[0].grid(True, axis='y', linestyle='--', alpha=0.7)\n",
    "\n",
    "# Scatter Plot\n",
    "axs[1].scatter(heights, weights, color='purple', edgecolor='black', s=100)\n",
    "axs[1].set_title('Height vs Weight')\n",
    "axs[1].set_xlabel('Height (cm)')\n",
    "axs[1].set_ylabel('Weight (kg)')\n",
    "axs[1].grid(True)\n",
    "\n",
    "# Histogram\n",
    "axs[2].hist(marks, bins=5, color='orange', edgecolor='black')\n",
    "axs[2].set_title('Marks Distribution')\n",
    "axs[2].set_xlabel('Marks')\n",
    "axs[2].set_ylabel('Number of Students')\n",
    "axs[2].grid(True, axis='y', linestyle='--', alpha=0.7)\n",
    "# Adjust layout for better spacing\n",
    "plt.tight_layout()\n",
    "\n",
    "# Show the combined plots\n",
    "plt.show()"
   ]
  }
 ],
 "metadata": {
  "language_info": {
   "name": "python"
  }
 },
 "nbformat": 4,
 "nbformat_minor": 2
}
