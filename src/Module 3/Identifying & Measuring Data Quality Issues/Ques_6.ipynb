{
 "cells": [
  {
   "cell_type": "code",
   "execution_count": 1,
   "metadata": {},
   "outputs": [
    {
     "ename": "SyntaxError",
     "evalue": "unmatched '}' (3272358875.py, line 57)",
     "output_type": "error",
     "traceback": [
      "\u001b[0;36m  Cell \u001b[0;32mIn[1], line 57\u001b[0;36m\u001b[0m\n\u001b[0;31m    }\u001b[0m\n\u001b[0m    ^\u001b[0m\n\u001b[0;31mSyntaxError\u001b[0m\u001b[0;31m:\u001b[0m unmatched '}'\n"
     ]
    }
   ],
   "source": [
    "# Question: Evaluating Data Distribution\n",
    "# Description: Analyze the distribution of a numeric column using histograms and descriptive statistics.\n",
    "\"source\": [\n",
    "    \"# Question: Evaluating Data Distribution\\n\",\n",
    "    \"# Description: Analyze the distribution of a numeric column using histograms and descriptive statistics.\\n\",\n",
    "    \"\\n\",\n",
    "    \"import pandas as pd\\n\",\n",
    "    \"import numpy as np\\n\",\n",
    "    \"import matplotlib.pyplot as plt\\n\",\n",
    "    \"import seaborn as sns\\n\",\n",
    "    \"from scipy import stats\\n\",\n",
    "    \"\\n\",\n",
    "    \"np.random.seed(0)\\n\",\n",
    "    \"df = pd.DataFrame({\\n\",\n",
    "    \"    'sample_column': np.random.normal(loc=50, scale=15, size=1000)  \\n\",\n",
    "    \"})\\n\",\n",
    "    \"\\n\",\n",
    "    \"column = 'sample_column'\\n\",\n",
    "    \"data = df[column].dropna()\\n\",\n",
    "    \"\\n\",\n",
    "    \"\\n\",\n",
    "    \"desc_stats = {\\n\",\n",
    "    \"    'count': data.count(),\\n\",\n",
    "    \"    'mean': data.mean(),\\n\",\n",
    "    \"    'median': data.median(),\\n\",\n",
    "    \"    'mode': data.mode().iloc[0] if not data.mode().empty else np.nan,\\n\",\n",
    "    \"    'std_dev': data.std(),\\n\",\n",
    "    \"    'min': data.min(),\\n\",\n",
    "    \"    'max': data.max(),\\n\",\n",
    "    \"    'skewness': data.skew(),\\n\",\n",
    "    \"    'kurtosis': data.kurtosis()\\n\",\n",
    "    \"}\\n\",\n",
    "    \"\\n\",\n",
    "    \"print(\\\"Descriptive Statistics:\\\")\\n\",\n",
    "    \"for k, v in desc_stats.items():\\n\",\n",
    "    \"    print(f\\\"{k}: {v:.4f}\\\")\\n\",\n",
    "    \"\\n\",\n",
    "    \"\\n\",\n",
    "    \"plt.figure(figsize=(15, 4))\\n\",\n",
    "    \"\\n\",\n",
    "    \n",
    "    \"plt.subplot(1, 3, 1)\\n\",\n",
    "    \"sns.histplot(data, kde=True, bins=30)\\n\",\n",
    "    \"plt.title(\\\"Histogram with KDE\\\")\\n\",\n",
    "    \n",
    "    \"plt.subplot(1, 3, 2)\\n\",\n",
    "    \"sns.boxplot(x=data)\\n\",\n",
    "    \"plt.title(\\\"Boxplot\\\")\\n\",\n",
    "    \"\\n\",\n",
    "    \"plt.subplot(1, 3, 3)\\n\",\n",
    "    \"stats.probplot(data, dist=\\\"norm\\\", plot=plt)\\n\",\n",
    "    \"plt.title(\\\"QQ Plot\\\")\\n\",\n",
    "    \n",
    "    \"plt.tight_layout()\\n\",\n",
    "    \"plt.show()\\n\"\n",
    "   ]\n",
    "  }\n",
    "\n"
   ]
  }
 ],
 "metadata": {
  "kernelspec": {
   "display_name": "Python 3",
   "language": "python",
   "name": "python3"
  },
  "language_info": {
   "codemirror_mode": {
    "name": "ipython",
    "version": 3
   },
   "file_extension": ".py",
   "mimetype": "text/x-python",
   "name": "python",
   "nbconvert_exporter": "python",
   "pygments_lexer": "ipython3",
   "version": "3.10.12"
  }
 },
 "nbformat": 4,
 "nbformat_minor": 2
}
