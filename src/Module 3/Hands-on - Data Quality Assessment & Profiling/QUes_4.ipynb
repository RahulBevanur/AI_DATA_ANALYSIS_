{
 "cells": [
  {
   "cell_type": "code",
   "execution_count": null,
   "metadata": {},
   "outputs": [],
   "source": [
    "# Part 1: Load a Dataset & Check Missing Values\n",
    "\n",
    "# Task 1: Customer Dataset\n",
    "# - Load a custom CSV file named customer_data.csv .\n",
    "# - Find any missing values in specific columns like 'Email' and 'Phone'.\n",
    "# Part 2: Identify Duplicates & Inconsistencies\n",
    "# Task 2: Duplicate Emails in Customer Dataset\n",
    "# - Identify duplicate emails which might indicate duplicate customer records\n",
    "# Part 3: Generate a Data Quality Report\n",
    "# Task 3: Customer Dataset Report\n",
    "# - Summarize the data quality with missing values, duplicates, and inconsistencies for customer_data.csv .\n",
    "import pandas as pd\n",
    "import numpy as np\n",
    "data = {'A': [1, 2, np.nan, 4, 5],\n",
    "        'B': [np.nan, 7, 8, np.nan, 10],\n",
    "        'C': [11, 12, 13, 14, 15]}\n",
    "df = pd.DataFrame(data)\n",
    "print(\"Original DataFrame:\")\n",
    "print(df)\n",
    "df_ffill = df.fillna(method='ffill')\n",
    "print(\"\\nDataFrame after forward-fill:\")\n",
    "print(df_ffill)\n",
    "\n",
    "\n",
    "\n",
    "\n"
   ]
  }
 ],
 "metadata": {
  "language_info": {
   "name": "python"
  }
 },
 "nbformat": 4,
 "nbformat_minor": 2
}
