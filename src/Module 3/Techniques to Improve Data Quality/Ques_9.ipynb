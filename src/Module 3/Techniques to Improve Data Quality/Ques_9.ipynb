{
 "cells": [
  {
   "cell_type": "code",
   "execution_count": null,
   "metadata": {},
   "outputs": [],
   "source": [
    "# Question: Predictive Imputation Using Machine Learning\n",
    "# Description: Use a simple predictive model to impute missing values in a column.\n",
    "import pandas as pd\n",
    "import numpy as np\n",
    "from sklearn.tree import DecisionTreeRegressor\n",
    "from sklearn.model_selection import train_test_split\n",
    "df = pd.DataFrame({\n",
    "    \"income\": [50000, 60000, 55000, 58000, 62000, 49000, 57000],\n",
    "    \"education\": [16, 18, 14, 15, 17, 13, 16],\n",
    "    \"age\": [25, 30, np.nan, 35, 40, np.nan, 28]\n",
    "})\n",
    "df_missing = df[df[\"age\"].isnull()]\n",
    "df_complete = df[df[\"age\"].notnull()]\n",
    "features = [\"income\", \"education\"]\n",
    "X_train = df_complete[features]\n",
    "y_train = df_complete[\"age\"]\n",
    "model = DecisionTreeRegressor()\n",
    "model.fit(X_train, y_train)\n",
    "X_missing = df_missing[features]\n",
    "df.loc[df[\"age\"].isnull(), \"age\"] = model.predict(X_missing)\n",
    "print(df)"
   ]
  }
 ],
 "metadata": {
  "language_info": {
   "name": "python"
  }
 },
 "nbformat": 4,
 "nbformat_minor": 2
}
