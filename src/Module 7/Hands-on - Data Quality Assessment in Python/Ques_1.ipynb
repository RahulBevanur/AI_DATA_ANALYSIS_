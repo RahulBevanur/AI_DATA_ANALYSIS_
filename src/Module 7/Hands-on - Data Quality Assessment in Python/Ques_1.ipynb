{
 "cells": [
  {
   "cell_type": "markdown",
   "metadata": {},
   "source": [
    "**Task 1**: Checking Null Values for Completeness\n",
    "\n",
    "**Description**: Verify if there are any null values in a dataset, which indicate incomplete data."
   ]
  },
  {
   "cell_type": "code",
   "execution_count": null,
   "metadata": {},
   "outputs": [],
   "source": [
    "import pandas as pd\n",
    "data = {\n",
    "    'id': [1, 2, 3, 4],\n",
    "    'name': ['Alice', 'Bob', None, 'David'],\n",
    "    'email': ['alice@example.com', None, 'charlie@example.com', 'david@example.com']\n",
    "}\n",
    "df = pd.DataFrame(data)\n",
    "null_counts = df.isnull().sum()\n",
    "total_rows = len(df)\n",
    "completeness = 1 - (null_counts / total_rows)\n",
    "print(\"Null value counts per column:\")\n",
    "print(null_counts)\n",
    "print(\"\\nCompleteness per column:\")\n",
    "print(completeness.round(2))"
   ]
  },
  {
   "cell_type": "markdown",
   "metadata": {},
   "source": [
    "**Task 2**: Checking Data Type Validity\n",
    "\n",
    "**Description**: Ensure that columns contain data of expected types, e.g., ages are integers."
   ]
  },
  {
   "cell_type": "code",
   "execution_count": null,
   "metadata": {},
   "outputs": [],
   "source": [
    "import pandas as pd\n",
    "data = {\n",
    "    'id': [1, 2, 3, 4],\n",
    "    'name': ['Alice', 'Bob', 'Charlie', 'David'],\n",
    "    'age': [25, 'thirty', 45, 22],\n",
    "    'email': ['a@example.com', 'b@example.com', 'c@example.com', 'd@example.com']\n",
    "}\n",
    "df = pd.DataFrame(data)\n",
    "expected_types = {'id': int, 'name': str, 'age': int, 'email': str}\n",
    "def check_type_validity(column, expected_type):\n",
    "    return df[column].apply(lambda x: isinstance(x, expected_type))\n",
    "validity_results = {col: check_type_validity(col, typ).mean() for col, typ in expected_types.items()}\n",
    "print(pd.Series(validity_results).round(2))"
   ]
  },
  {
   "cell_type": "markdown",
   "metadata": {},
   "source": [
    "**Task 3**: Verify Uniqueness of Identifiers\n",
    "\n",
    "**Description**: Check if a dataset has unique identifiers (e.g., emails)."
   ]
  },
  {
   "cell_type": "code",
   "execution_count": null,
   "metadata": {},
   "outputs": [],
   "source": [
    "import pandas as pd\n",
    "data = {\n",
    "    'id': [1, 2, 3, 4],\n",
    "    'email': ['a@example.com', 'b@example.com', 'b@example.com', 'd@example.com']\n",
    "}\n",
    "df = pd.DataFrame(data)\n",
    "is_unique = 1 - df.duplicated(subset=['email']).mean()\n",
    "print(f\"Email Uniqueness Score: {round(is_unique, 2)}\")"
   ]
  },
  {
   "cell_type": "markdown",
   "metadata": {},
   "source": [
    "Task 4: Validate Email Format Using Regex\n",
    "\n",
    "Description: Validate if email addresses in a dataset have the correct format."
   ]
  },
  {
   "cell_type": "code",
   "execution_count": null,
   "metadata": {},
   "outputs": [],
   "source": [
    "# Write your code from here\n",
    "import pandas as pd\n",
    "import re\n",
    "data = {\n",
    "    'email': ['a@example.com', 'invalid-email', 'user@domain.co', 'noatsymbol.com']\n",
    "}\n",
    "df = pd.DataFrame(data)\n",
    "email_regex = r'^[\\w\\.-]+@[\\w\\.-]+\\.\\w+$'\n",
    "df['valid_email'] = df['email'].apply(lambda x: bool(re.match(email_regex, str(x))))\n",
    "valid_score = df['valid_email'].mean()\n",
    "print(f\"Email Format Accuracy Score: {round(valid_score, 2)}\")"
   ]
  },
  {
   "cell_type": "markdown",
   "metadata": {},
   "source": [
    "Task 5: Check for Logical Age Validity\n",
    "\n",
    "Description: Ensure ages are within a reasonable human range (e.g., 0-120)."
   ]
  },
  {
   "cell_type": "code",
   "execution_count": null,
   "metadata": {},
   "outputs": [],
   "source": [
    "# Write your code from here\n",
    "import pandas as pd\n",
    "data = {\n",
    "    'name': ['Alice', 'Bob', 'Charlie', 'David'],\n",
    "    'age': [25, 130, 45, -5]\n",
    "}\n",
    "df = pd.DataFrame(data)\n",
    "valid_age = df['age'].apply(lambda x: 0 <= x <= 120)\n",
    "valid_age_score = valid_age.mean()\n",
    "print(f\"Age Validity Score: {round(valid_age_score, 2)}\")"
   ]
  },
  {
   "cell_type": "markdown",
   "metadata": {},
   "source": [
    "Task 6: Identify and Handle Missing Data\n",
    "\n",
    "Description: Identify missing values in a dataset and impute them using a simple strategy (e.g., mean)."
   ]
  },
  {
   "cell_type": "code",
   "execution_count": null,
   "metadata": {},
   "outputs": [],
   "source": [
    "# Write your code from here\n",
    "import pandas as pd\n",
    "data = {\n",
    "    'id': [1, 2, 3, 4],\n",
    "    'age': [25, None, 45, None],\n",
    "    'email': ['a@example.com', 'b@example.com', 'c@example.com', None]\n",
    "}\n",
    "df = pd.DataFrame(data)\n",
    "df['age'] = df['age'].fillna(df['age'].mean())\n",
    "df['email'] = df['email'].fillna('unknown@example.com')\n",
    "missing_data_percentage = df.isnull().mean()\n",
    "print(f\"Missing Data Percentages:\\n{missing_data_percentage.round(2)}\")\n",
    "print(\"\\nImputed Data:\\n\", df)"
   ]
  },
  {
   "cell_type": "markdown",
   "metadata": {},
   "source": [
    "Task 7: Detect Duplicates\n",
    "\n",
    "Description: Detect duplicate rows in the dataset."
   ]
  },
  {
   "cell_type": "code",
   "execution_count": null,
   "metadata": {},
   "outputs": [],
   "source": [
    "# Write your code from here\n",
    "import pandas as pd\n",
    "data = {\n",
    "    'id': [1, 2, 3, 3, 4],\n",
    "    'name': ['Alice', 'Bob', 'Charlie', 'Charlie', 'David'],\n",
    "    'email': ['a@example.com', 'b@example.com', 'c@example.com', 'c@example.com', 'd@example.com']\n",
    "}\n",
    "df = pd.DataFrame(data)\n",
    "duplicates = df[df.duplicated()]\n",
    "print(f\"Detected Duplicates:\\n{duplicates}\")"
   ]
  },
  {
   "cell_type": "markdown",
   "metadata": {},
   "source": [
    "Task 8: Validate Correctness of Numerical Values\n",
    "\n",
    "Description: Ensure numerical columns are within a specified range."
   ]
  },
  {
   "cell_type": "code",
   "execution_count": null,
   "metadata": {},
   "outputs": [],
   "source": [
    "# Write your code from here\n",
    "import pandas as pd\n",
    "data = {\n",
    "    'id': [1, 2, 3, 4],\n",
    "    'price': [150, 300, 5000, 50]\n",
    "}\n",
    "df = pd.DataFrame(data)\n",
    "price_validity = df['price'].apply(lambda x: 100 <= x <= 1000)\n",
    "valid_price_score = price_validity.mean()\n",
    "print(f\"Price Validity Score: {round(valid_price_score, 2)}\")"
   ]
  },
  {
   "cell_type": "markdown",
   "metadata": {},
   "source": [
    "Task 9: Custom Completeness Rule Violation Report\n",
    "\n",
    "Description: Create a report showing which rows violate specific completeness rules, such as mandatory fields being empty."
   ]
  },
  {
   "cell_type": "code",
   "execution_count": null,
   "metadata": {},
   "outputs": [],
   "source": [
    "# Write your code from here\n",
    "import pandas as pd\n",
    "data = {\n",
    "    'id': [1, 2, 3, 4],\n",
    "    'name': ['Alice', None, 'Charlie', 'David'],\n",
    "    'email': ['a@example.com', 'b@example.com', None, 'd@example.com']\n",
    "}\n",
    "df = pd.DataFrame(data)\n",
    "mandatory_fields = ['name', 'email']\n",
    "violations = df[df[mandatory_fields].isnull().any(axis=1)]\n",
    "print(\"Rows with Completeness Rule Violations:\\n\", violations)"
   ]
  },
  {
   "cell_type": "markdown",
   "metadata": {},
   "source": [
    "Task 10: Advanced Regex for Data Validity Check\n",
    "\n",
    "Description: Check for validity with advanced regex patterns, such as validating complex fields with multi-level rules."
   ]
  },
  {
   "cell_type": "code",
   "execution_count": null,
   "metadata": {},
   "outputs": [],
   "source": [
    "# Write your code from hereimport pandas as pd\n",
    "import re\n",
    "data = {\n",
    "    'email': ['a@example.com', 'invalid-email', 'user@domain.co', 'user@domain'],\n",
    "    'phone': ['+1-800-555-1234', '800-555-1234', '12345', '+44 20 7946 0958']\n",
    "}\n",
    "df = pd.DataFrame(data)\n",
    "email_regex = r'^[\\w\\.-]+@[\\w\\.-]+\\.\\w+$'\n",
    "phone_regex = r'^\\+?[\\d\\-\\(\\)\\s]+$'\n",
    "df['valid_email'] = df['email'].apply(lambda x: bool(re.match(email_regex, str(x))))\n",
    "df['valid_phone'] = df['phone'].apply(lambda x: bool(re.match(phone_regex, str(x))))\n",
    "valid_email_score = df['valid_email'].mean()\n",
    "valid_phone_score = df['valid_phone'].mean()\n",
    "print(f\"Email Validity Score: {round(valid_email_score, 2)}\")\n",
    "print(f\"Phone Validity Score: {round(valid_phone_score, 2)}\")"
   ]
  }
 ],
 "metadata": {
  "kernelspec": {
   "display_name": "base",
   "language": "python",
   "name": "python3"
  },
  "language_info": {
   "name": "python",
   "version": "3.12.7"
  }
 },
 "nbformat": 4,
 "nbformat_minor": 2
}
