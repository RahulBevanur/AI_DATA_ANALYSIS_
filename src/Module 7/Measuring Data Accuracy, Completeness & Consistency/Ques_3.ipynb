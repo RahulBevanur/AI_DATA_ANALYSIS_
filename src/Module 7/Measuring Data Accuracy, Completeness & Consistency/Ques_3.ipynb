{
 "cells": [
  {
   "cell_type": "markdown",
   "metadata": {},
   "source": [
    "## Compare Data Completeness Over Time\n",
    "\n",
    "**Description**: Analyze the trend of missing data in `\"sales_data.csv\"` over several months stored in a \"date\" column. Visualize missing data rates by month."
   ]
  },
  {
   "cell_type": "code",
   "execution_count": null,
   "metadata": {},
   "outputs": [],
   "source": [
    "import pandas as pd\n",
    "import matplotlib.pyplot as plt\n",
    "\n",
    "def analyze_missing_data_trend(file_path, date_column):\n",
    "    \"\"\"\n",
    "    Analyzes the trend of missing data in a CSV file over time, based on a date column.\n",
    "    Visualizes the missing data rates per month for each column.\n",
    "\n",
    "    Args:\n",
    "        file_path (str): Path to the CSV file containing the sales data.\n",
    "        date_column (str): Name of the column containing the date information.\n",
    "    \"\"\"\n",
    "    try:\n",
    "        df = pd.read_csv(file_path)\n",
    "    except FileNotFoundError as e:\n",
    "        print(f\"Error: File not found: {e}\")\n",
    "        return\n",
    "\n",
    "    if date_column not in df.columns:\n",
    "        print(f\"Error: Date column '{date_column}' not found.\")\n",
    "        return\n",
    "\n",
    "    # Convert the date column to datetime objects\n",
    "    df[date_column] = pd.to_datetime(df[date_column])\n",
    "\n",
    "    # Set the date column as the index for easier resampling\n",
    "    df.set_index(date_column, inplace=True)\n",
    "\n",
    "    # Resample the data by month and calculate the percentage of missing values for each column\n",
    "    missing_rate_by_month = df.resample('M').apply(lambda x: (x.isnull().sum() / len(x)) * 100)\n",
    "\n",
    "    # Visualize the missing data rates for each column over time\n",
    "    plt.figure(figsize=(12, 6 * len(df.columns)))\n",
    "    for i, column in enumerate(df.columns):\n",
    "        plt.subplot(len(df.columns), 1, i + 1)\n",
    "        missing_rate_by_month[column].plot(kind='line', marker='o')\n",
    "        plt.title(f'Missing Data Rate (%) for Column: {column}')\n",
    "        plt.xlabel('Month')\n",
    "        plt.ylabel('Missing Rate (%)')\n",
    "        plt.grid(True)\n",
    "    plt.tight_layout()\n",
    "    plt.show()\n",
    "\n",
    "# Create a dummy CSV file with missing sales data over a few months\n",
    "data = {\n",
    "    'date': pd.to_datetime(['2024-12-15', '2024-12-20', '2025-01-05', '2025-01-10', '2025-01-25',\n",
    "                           '2025-02-01', '2025-02-18', '2025-02-28', '2025-03-10', '2025-03-22']),\n",
    "    'product_id': [1, None, 2, 1, 3, 2, None, 1, 3, 2],\n",
    "    'quantity': [10, 5, None, 8, 12, 7, 9, None, 15, 11],\n",
    "    'price': [100.0, 50.0, 25.0, 100.0, None, 25.0, 50.0, 100.0, 25.0, 50.0]\n",
    "}\n",
    "sales_df = pd.DataFrame(data)\n",
    "sales_df.to_csv('sales_data.csv', index=False)\n",
    "\n",
    "# Analyze the trend of missing data\n",
    "analyze_missing_data_trend('sales_data.csv', 'date')"
   ]
  }
 ],
 "metadata": {
  "kernelspec": {
   "display_name": "base",
   "language": "python",
   "name": "python3"
  },
  "language_info": {
   "name": "python",
   "version": "3.12.7"
  }
 },
 "nbformat": 4,
 "nbformat_minor": 2
}
