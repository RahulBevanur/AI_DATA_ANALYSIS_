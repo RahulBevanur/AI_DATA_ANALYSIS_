{
 "cells": [
  {
   "cell_type": "markdown",
   "metadata": {},
   "source": [
    "## Data Quality Dashboard in Python\n",
    "\n",
    "**Description**: Create a basic dashboard using a Python library (e.g., Plotly Dash) to visualize data quality metrics for a given dataset."
   ]
  },
  {
   "cell_type": "code",
   "execution_count": null,
   "metadata": {},
   "outputs": [],
   "source": [
    "import pandas as pd\n",
    "\n",
    "data = {\n",
    "    'ID': [101, 102, 103, 104, 105],\n",
    "    'Name': ['Alice Johnson', 'Bob Smith', 'Charlie-Ann', \"D'Arcy O'Neill\", 'Eve2'],\n",
    "    'Age': [20, 17, 19, 101, 'twenty'],\n",
    "    'Grade': [88, 92, 105, 76, 85],\n",
    "    'Email': ['alice@example.com', 'bob.smith@example.com', 'charlie@edu.org', 'darcy@school.com', 'alice@example.com']\n",
    "}\n",
    "\n",
    "df = pd.DataFrame(data)\n",
    "df.to_csv('students.csv', index=False)\n",
    "print(\"Sample 'students.csv' file created.\")"
   ]
  }
 ],
 "metadata": {
  "kernelspec": {
   "display_name": "base",
   "language": "python",
   "name": "python3"
  },
  "language_info": {
   "name": "python",
   "version": "3.12.7"
  }
 },
 "nbformat": 4,
 "nbformat_minor": 2
}
