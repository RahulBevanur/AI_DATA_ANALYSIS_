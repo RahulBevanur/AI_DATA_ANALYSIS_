{
 "cells": [
  {
   "cell_type": "code",
   "execution_count": null,
   "metadata": {},
   "outputs": [],
   "source": [
    "# Feature Scaling & Encoding\n",
    "\n",
    "# Objective: Learn to scale numerical features and encode categorical features for better model performance.\n",
    "# Instructions:\n",
    "# For each example, perform the following steps:\n",
    "#     1. Load the Dataset: Load the dataset into your environment.\n",
    "#     2. Feature Scaling: Apply scaling methods (StandardScaler or MinMaxScaler) to specified numerical columns.\n",
    "#     3. Feature Encoding: Apply encoding methods (One-Hot Encoding or Label Encoding) to specified categorical columns.\n",
    "#     4. Verify Changes: Check the data to ensure proper scaling and encoding. \n",
    "\n",
    "\n",
    "# Task:\n",
    "#     Dataset: customer_data.csv (get it by your own it includes the columns of Age , Annual_Income)\n",
    "#     Columns to scale: Age , Annual_Income\n",
    "#     Column to encode: Region\n",
    "#     Steps:\n",
    "#         1. Load customer_data.csv .\n",
    "#         2. Use MinMaxScaler on Age and Annual_Income .\n",
    "#         3. Perform One-Hot Encoding on Region .\n",
    "#         4. Verify by assessing the transformed dataset.\n",
    "import pandas as pd\n",
    "from sklearn.preprocessing import MinMaxScaler, OneHotEncoder\n",
    "import io\n",
    "sample_data = \"\"\"\n",
    "Age,Annual_Income,Region\n",
    "25,50000,North\n",
    "30,75000,South\n",
    "45,120000,East\n",
    "38,90000,West\n",
    "52,150000,North\n",
    "\"\"\"\n",
    "customer_data = pd.read_csv(io.StringIO(sample_data))\n",
    "scaler = MinMaxScaler()\n",
    "numerical_cols = ['Age', 'Annual_Income']\n",
    "customer_data[numerical_cols] = scaler.fit_transform(customer_data[numerical_cols])\n",
    "encoder = OneHotEncoder(sparse_output=False, drop='first')\n",
    "encoded_region = encoder.fit_transform(customer_data[['Region']])\n",
    "encoded_region_names = encoder.get_feature_names_out(['Region'])\n",
    "encoded_region_df = pd.DataFrame(encoded_region, columns=encoded_region_names)\n",
    "customer_data_encoded = pd.concat([customer_data.drop('Region', axis=1), encoded_region_df], axis=1)\n",
    "print(\"Transformed Data:\")\n",
    "print(customer_data_encoded)\n",
    "print(\"\\nData Summary:\")\n",
    "print(customer_data_encoded.describe())\n",
    "\n",
    "\n",
    "    \n",
    "    \n",
    "    "
   ]
  }
 ],
 "metadata": {
  "language_info": {
   "name": "python"
  }
 },
 "nbformat": 4,
 "nbformat_minor": 2
}
