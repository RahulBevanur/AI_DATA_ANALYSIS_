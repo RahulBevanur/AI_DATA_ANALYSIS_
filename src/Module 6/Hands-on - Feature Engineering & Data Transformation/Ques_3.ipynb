{
 "cells": [
  {
   "cell_type": "code",
   "execution_count": null,
   "metadata": {},
   "outputs": [],
   "source": [
    "# Feature Scaling & Encoding\n",
    "\n",
    "# Objective: Learn to scale numerical features and encode categorical features for better model performance.\n",
    "# Instructions:\n",
    "# For each example, perform the following steps:\n",
    "#     1. Load the Dataset: Load the dataset into your environment.\n",
    "#     2. Feature Scaling: Apply scaling methods (StandardScaler or MinMaxScaler) to specified numerical columns.\n",
    "#     3. Feature Encoding: Apply encoding methods (One-Hot Encoding or Label Encoding) to specified categorical columns.\n",
    "#     4. Verify Changes: Check the data to ensure proper scaling and encoding. \n",
    "\n",
    "\n",
    "# Task:\n",
    "#   Dataset: car_features.csv (get it by your own it includes the columns of Mileage , Horsepower)\n",
    "    # Columns to scale: Mileage , Horsepower\n",
    "    # Column to encode: Fuel_Type\n",
    "    # Steps:\n",
    "    #     1. Load car_features.csv .\n",
    "    #     2. Scale Mileage and Horsepower using StandardScaler.\n",
    "    #     3. Encode Fuel_Type using Label Encoding.\n",
    "    #     4. Confirm scaling and encoding by checking these columns.\n",
    "import pandas as pd\n",
    "from sklearn.preprocessing import StandardScaler, LabelEncoder\n",
    "sample_data = \"\"\"\n",
    "Mileage,Horsepower,Fuel_Type\n",
    "45000,180,Gasoline\n",
    "32000,220,Diesel\n",
    "78000,150,Hybrid\n",
    "55000,190,Gasoline\n",
    "23000,250,Diesel\n",
    "\"\"\"\n",
    "car_data = pd.read_csv(pd.io.common.StringIO(sample_data))\n",
    "scaler = StandardScaler()\n",
    "numerical_cols = ['Mileage', 'Horsepower']\n",
    "car_data[numerical_cols] = scaler.fit_transform(car_data[numerical_cols])\n",
    "encoder = LabelEncoder()\n",
    "car_data['Fuel_Type'] = encoder.fit_transform(car_data['Fuel_Type'])\n",
    "print(\"Transformed Data:\")\n",
    "print(car_data)\n",
    "print(\"\\nFuel Type Mapping:\")\n",
    "for i, label in enumerate(encoder.classes_):\n",
    "    print(f\"{label}: {i}\")\n",
    "print(\"\\nScaled Statistics:\")\n",
    "print(car_data[numerical_cols].describe())\n",
    "\n",
    "\n",
    "\n",
    "    \n",
    "    \n",
    "    "
   ]
  }
 ],
 "metadata": {
  "language_info": {
   "name": "python"
  }
 },
 "nbformat": 4,
 "nbformat_minor": 2
}
