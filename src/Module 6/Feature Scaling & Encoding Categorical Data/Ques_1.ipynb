{
 "cells": [
  {
   "cell_type": "code",
   "execution_count": null,
   "metadata": {},
   "outputs": [],
   "source": [
    "import pandas as pd\n",
    "from sklearn.datasets import load_iris\n",
    "from sklearn.preprocessing import MinMaxScaler,StandardScaler,RobustScaler\n",
    "from sklearn.model_selection import train_test_split\n",
    "from sklearn.linear_model import LogisticRegression\n",
    "from sklearn.metrics import accuracy_score\n",
    "\n",
    "def min_max(df):return pd.DataFrame(MinMaxScaler().fit_transform(df),columns=df.columns)\n",
    "def z_score(df):return pd.DataFrame(StandardScaler().fit_transform(df),columns=df.columns)\n",
    "def robust(df):return pd.DataFrame(RobustScaler().fit_transform(df),columns=df.columns)\n",
    "\n",
    "iris=load_iris()\n",
    "X=pd.DataFrame(iris.data,columns=iris.feature_names)\n",
    "y=pd.Series(iris.target)\n",
    "\n",
    "X_train,X_test,y_train,y_test=train_test_split(X,y,random_state=42)\n",
    "model_raw=LogisticRegression(max_iter=1000).fit(X_train,y_train)\n",
    "acc_raw=accuracy_score(y_test,model_raw.predict(X_test))\n",
    "\n",
    "X_train_std,X_test_std=z_score(X_train),z_score(X_test)\n",
    "model_std=LogisticRegression(max_iter=1000).fit(X_train_std,y_train)\n",
    "acc_std=accuracy_score(y_test,model_std.predict(X_test))\n",
    "\n",
    "print(\"accuracy_unscaled\",acc_raw)\n",
    "print(\"accuracy_zscore\",acc_std)\n",
    "print(\"head_minmax\\n\",min_max(X).head())\n",
    "print(\"head_robust\\n\",robust(X).head())"
   ]
  }
 ],
 "metadata": {
  "kernelspec": {
   "display_name": "Python 3",
   "language": "python",
   "name": "python3"
  },
  "language_info": {
   "codemirror_mode": {
    "name": "ipython",
    "version": 3
   },
   "file_extension": ".py",
   "mimetype": "text/x-python",
   "name": "python",
   "nbconvert_exporter": "python",
   "pygments_lexer": "ipython3",
   "version": "3.10.12"
  }
 },
 "nbformat": 4,
 "nbformat_minor": 2
}
